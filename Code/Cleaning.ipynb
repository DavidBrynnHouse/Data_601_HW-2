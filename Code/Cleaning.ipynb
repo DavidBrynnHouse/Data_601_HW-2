{
 "cells": [
  {
   "cell_type": "code",
   "execution_count": null,
   "metadata": {},
   "outputs": [],
   "source": [
    "'''\n",
    "David House\n",
    "10/1/2020\n",
    "Data 601\n",
    "This file is used to collect and organize data retrieved from the OpenWeather API\n",
    "***Warning*** Due to the api restrictions, this code takes approximatly 30 minutes to run.\n",
    "'''\n",
    "import pandas as pd\n",
    "import requests\n",
    "import time\n",
    "\n",
    "#Strings used to access API\n",
    "api_head = \"http://api.openweathermap.org/data/2.5/weather?q=\"\n",
    "api_tail = \"&appid=API_KEY\"\n",
    "\n",
    "#Reads a list of U.S cities into a list of lists where each city is its own list\n",
    "#ex: [[Baltimore], [Washington DC], ...]\n",
    "us_cities = pd.read_csv(\"../Data/us_cities.csv\").values\n",
    "us_cities = us_cities.tolist()\n",
    "\n",
    "#Used to hold the temperature and humidity of each city respectively as a float\n",
    "temp_list = []\n",
    "hum_list = []\n",
    "\n",
    "for city in us_cities:\n",
    "    weather_request = requests.get(api_head+city[0]+api_tail)\n",
    "    if weather_request.status_code == 200:\n",
    "        weather_values = weather_request.json()['main']\n",
    "        temp_list.append(weather_values['temp'])\n",
    "        hum_list.append(weather_values['humidity'])\n",
    "    #API blocks more than 60 calls in a minute\n",
    "    time.sleep(1.01)\n",
    "result_dict = {'Temperature': temp_list, 'Humidity': hum_list}"
   ]
  },
  {
   "cell_type": "code",
   "execution_count": 54,
   "metadata": {},
   "outputs": [],
   "source": [
    "#Saves data in the form of a csv to be analysed in the Executive file\n",
    "df = pd.DataFrame(result_dict, columns = ['Temperature', 'Humidity'])\n",
    "df.to_csv(r'../Data/temp_humidity.csv', index=False)"
   ]
  },
  {
   "cell_type": "markdown",
   "metadata": {},
   "source": []
  }
 ],
 "metadata": {
  "kernelspec": {
   "display_name": "Python 3",
   "language": "python",
   "name": "python3"
  },
  "language_info": {
   "codemirror_mode": {
    "name": "ipython",
    "version": 3
   },
   "file_extension": ".py",
   "mimetype": "text/x-python",
   "name": "python",
   "nbconvert_exporter": "python",
   "pygments_lexer": "ipython3",
   "version": "3.8.3"
  }
 },
 "nbformat": 4,
 "nbformat_minor": 4
}
